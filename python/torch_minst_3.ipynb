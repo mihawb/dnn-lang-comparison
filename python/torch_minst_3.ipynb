{
 "cells": [
  {
   "cell_type": "code",
   "execution_count": 1,
   "metadata": {},
   "outputs": [],
   "source": [
    "# getting data through DataLoaders\n",
    "import numpy as np\n",
    "import torch\n",
    "from loadImgsAndLabels import loadloadImgsAndLabels\n",
    "from torch.utils.data import TensorDataset, DataLoader\n",
    "\n",
    "def prepare_mnist_loaders(x_train, y_train, x_test, y_test, batch_size, test_batch_size, val_split):\n",
    "\tx_train, x_val = np.split(x_train, [val_split])\n",
    "\ty_train, y_val = np.split(y_train, [val_split])\n",
    "\n",
    "\tx_train, y_train, x_val, y_val, x_test, y_test = map(\n",
    "\t\ttorch.tensor,\n",
    "\t\t(x_train, y_train, x_val, y_val, x_test, y_test)\n",
    "\t)\n",
    "\ttrain_ds = TensorDataset(x_train, y_train)\n",
    "\tval_ds = TensorDataset(x_val, y_val)\n",
    "\ttest_ds = TensorDataset(x_test, y_test)\n",
    "\n",
    "\ttrain_dl = DataLoader(train_ds, batch_size=batch_size, shuffle=True)\n",
    "\tval_dl = DataLoader(val_ds, batch_size=test_batch_size)\n",
    "\ttest_dl = DataLoader(test_ds, batch_size=test_batch_size)\n",
    "\n",
    "\treturn train_dl, val_dl, test_dl\n",
    "\n",
    "\n",
    "batch_size = 64\n",
    "test_batch_size = 2 * batch_size\n",
    "val_split = 50000\n",
    "\n",
    "x_train, y_train = loadloadImgsAndLabels(\n",
    "\t'../datasets/train-images.idx3-ubyte',\n",
    "\t'../datasets/train-labels.idx1-ubyte'\n",
    ")\n",
    "\n",
    "x_test, y_test = loadloadImgsAndLabels(\n",
    "\t'../datasets/t10k-images.idx3-ubyte',\n",
    "\t'../datasets/t10k-labels.idx1-ubyte'\n",
    ")\n",
    "\n",
    "train_dl, val_dl, test_dl = prepare_mnist_loaders(\n",
    "\tx_train, y_train, x_test, y_test, batch_size, test_batch_size, val_split\n",
    ")"
   ]
  },
  {
   "cell_type": "code",
   "execution_count": null,
   "metadata": {},
   "outputs": [],
   "source": [
    "from torch import optim\n",
    "from torch import nn\n",
    "\n",
    "lr = 0.5\n",
    "\n",
    "class Mnist_Logistic(nn.Module):\n",
    "\tdef __init__(self):\n",
    "\t\tsuper().__init__()\n",
    "\t\tself.lin = nn.Linear(784, 10)\n",
    "\n",
    "\tdef forward(self, xb):\n",
    "\t\treturn self.lin(xb)\n",
    "    \n",
    "model = Mnist_Logistic()\n",
    "opt = optim.SGD(model.parameters(), lr=lr)"
   ]
  },
  {
   "cell_type": "code",
   "execution_count": null,
   "metadata": {},
   "outputs": [],
   "source": [
    "\n",
    "\n",
    "def loss_batch(model, loss_func, xb, yb, opt=None):\n",
    "\tloss = loss_func(model(xb), yb)\n",
    "\n",
    "\tif opt is not None:\n",
    "\t\tloss.backward()\n",
    "\t\topt.step()\n",
    "\t\topt.zero_grad()\n",
    "\n",
    "\treturn loss.item(), len(xb)\n",
    "\n",
    "def fit(epochs, model, loss_func, opt, train_dl, valid_dl):\n",
    "\tfor epoch in range(epochs):\n",
    "\t\tmodel.train()\n",
    "\t\tfor xb, yb in train_dl:\n",
    "\t\t\tloss_batch(model, loss_func, xb, yb, opt)\n",
    "\n",
    "\t\tmodel.eval()\n",
    "\t\twith torch.no_grad():\n",
    "\t\t\tlosses, nums = zip(\n",
    "\t\t\t\t*[loss_batch(model, loss_func, xb, yb) for xb, yb in valid_dl]\n",
    "\t\t\t)\n",
    "\t\tval_loss = np.sum(np.multiply(losses, nums)) / np.sum(nums)\n",
    "\n",
    "\t\tprint(epoch, val_loss)\n",
    "\n",
    "\n",
    "model = Mnist_Logistic()\n",
    "opt = optim.SGD(model.parameters(), lr=lr)"
   ]
  },
  {
   "cell_type": "code",
   "execution_count": null,
   "metadata": {},
   "outputs": [],
   "source": [
    "use_cuda = torch.cuda.is_available()\n",
    "device = torch.device(\"cuda\" if use_cuda else \"cpu\")"
   ]
  }
 ],
 "metadata": {
  "kernelspec": {
   "display_name": "Python 3",
   "language": "python",
   "name": "python3"
  },
  "language_info": {
   "codemirror_mode": {
    "name": "ipython",
    "version": 3
   },
   "file_extension": ".py",
   "mimetype": "text/x-python",
   "name": "python",
   "nbconvert_exporter": "python",
   "pygments_lexer": "ipython3",
   "version": "3.11.2"
  },
  "orig_nbformat": 4
 },
 "nbformat": 4,
 "nbformat_minor": 2
}
