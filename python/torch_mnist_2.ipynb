{
 "cells": [
  {
   "cell_type": "code",
   "execution_count": 2,
   "metadata": {},
   "outputs": [],
   "source": [
    "from loadImgsAndLabels import loadloadImgsAndLabels\n",
    "\n",
    "from math import sqrt\n",
    "import numpy as np\n",
    "import matplotlib.pyplot as plt\n",
    "from IPython.display import display\n",
    "\n",
    "import torch\n",
    "import torch.nn as nn\n",
    "import torch.nn.functional as F\n",
    "from torch.utils.data import TensorDataset, DataLoader"
   ]
  },
  {
   "cell_type": "code",
   "execution_count": 3,
   "metadata": {},
   "outputs": [
    {
     "name": "stdout",
     "output_type": "stream",
     "text": [
      "(50000, 784) (50000,)\n",
      "(10000, 784) (10000,)\n",
      "(10000, 784) (10000,)\n"
     ]
    },
    {
     "data": {
      "text/plain": [
       "<matplotlib.image.AxesImage at 0x7fd2bf7fb210>"
      ]
     },
     "execution_count": 3,
     "metadata": {},
     "output_type": "execute_result"
    },
    {
     "data": {
      "image/png": "[encoded data removed]",
      "text/plain": [
       "<Figure size 640x480 with 1 Axes>"
      ]
     },
     "metadata": {},
     "output_type": "display_data"
    }
   ],
   "source": [
    "x_train, y_train = loadloadImgsAndLabels(\n",
    "\t'../datasets/train-images.idx3-ubyte',\n",
    "\t'../datasets/train-labels.idx1-ubyte'\n",
    ")\n",
    "\n",
    "x_train, x_val = np.split(x_train, [50000])\n",
    "y_train, y_val = np.split(y_train, [50000])\n",
    "\n",
    "x_test, y_test = loadloadImgsAndLabels(\n",
    "\t'../datasets/t10k-images.idx3-ubyte',\n",
    "\t'../datasets/t10k-labels.idx1-ubyte'\n",
    ")\n",
    "\n",
    "print(x_train.shape, y_train.shape)\n",
    "print(x_val.shape, y_val.shape)\n",
    "print(x_test.shape, y_test.shape)\n",
    "\n",
    "plt.imshow(x_train[0].reshape(28, 28), cmap='gray')"
   ]
  },
  {
   "cell_type": "code",
   "execution_count": 4,
   "metadata": {},
   "outputs": [],
   "source": [
    "x_train, y_train, x_val, y_val, x_test, y_test = map(\n",
    "\ttorch.tensor,\n",
    "\t(x_train, y_train, x_val, y_val, x_test, y_test)\n",
    ")"
   ]
  },
  {
   "cell_type": "code",
   "execution_count": 17,
   "metadata": {},
   "outputs": [],
   "source": [
    "import math\n",
    "\n",
    "weights = torch.randn(784, 10) / math.sqrt(784)\n",
    "weights.requires_grad_()\n",
    "bias = torch.zeros(10, requires_grad=True)\n",
    "\n",
    "def accuracy(out, yb):\n",
    "\tpreds = torch.argmax(out, dim=1)\n",
    "\treturn (preds == yb).float().mean()\n",
    "\n",
    "def model(xb):\n",
    "\treturn xb @ weights + bias\n",
    "\n",
    "\n",
    "loss_func = F.cross_entropy\n",
    "\n",
    "epochs = 2 \n",
    "bs = 64\n",
    "n, c = x_train.shape\n",
    "lr = 0.5\n",
    "\n",
    "def fit():\n",
    "\t\tfor epoch in range(epochs):\n",
    "\t\t\tfor i in range((n - 1) // bs + 1):\n",
    "\t\t\t\tstart_i = i * bs\n",
    "\t\t\t\tend_i = start_i + bs\n",
    "\t\t\t\txb = x_train[start_i:end_i]\n",
    "\t\t\t\tyb = y_train[start_i:end_i]\n",
    "\t\t\t\tpred = model(xb)\n",
    "\t\t\t\tloss = loss_func(pred, yb)\n",
    "\n",
    "\t\t\t\tloss.backward()\n",
    "\t\t\t\twith torch.no_grad():\n",
    "\t\t\t\t\tfor p in model.parameters():\n",
    "\t\t\t\t\t\tp -= p.grad * lr\n",
    "\t\t\t\t\tmodel.zero_grad()\n"
   ]
  },
  {
   "cell_type": "code",
   "execution_count": 42,
   "metadata": {},
   "outputs": [],
   "source": [
    "class Mnist_Logistic(nn.Module):\n",
    "    def __init__(self):\n",
    "        super().__init__()\n",
    "        self.lin = nn.Linear(784, 10, dtype=torch.float64)\n",
    "\n",
    "    def forward(self, xb):\n",
    "        return self.lin(xb)"
   ]
  },
  {
   "cell_type": "code",
   "execution_count": 43,
   "metadata": {},
   "outputs": [
    {
     "name": "stdout",
     "output_type": "stream",
     "text": [
      "tensor(2.5045, dtype=torch.float64, grad_fn=<NllLossBackward0>)\n"
     ]
    }
   ],
   "source": [
    "model = Mnist_Logistic()\n",
    "\n",
    "xb = x_train[0:bs] \n",
    "yb = y_train[0:bs]\n",
    "# print(xb.dtype)\n",
    "\n",
    "print(loss_func(model(xb), yb))"
   ]
  },
  {
   "cell_type": "code",
   "execution_count": 46,
   "metadata": {},
   "outputs": [
    {
     "name": "stdout",
     "output_type": "stream",
     "text": [
      "tensor(2.1641, dtype=torch.float64, grad_fn=<NllLossBackward0>)\n"
     ]
    }
   ],
   "source": [
    "fit()\n",
    "print(loss_func(model(xb), yb))"
   ]
  }
 ],
 "metadata": {
  "kernelspec": {
   "display_name": "Python 3",
   "language": "python",
   "name": "python3"
  },
  "language_info": {
   "codemirror_mode": {
    "name": "ipython",
    "version": 3
   },
   "file_extension": ".py",
   "mimetype": "text/x-python",
   "name": "python",
   "nbconvert_exporter": "python",
   "pygments_lexer": "ipython3",
   "version": "3.11.2"
  },
  "orig_nbformat": 4
 },
 "nbformat": 4,
 "nbformat_minor": 2
}
