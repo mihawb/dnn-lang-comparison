{
 "cells": [
  {
   "cell_type": "code",
   "execution_count": 1,
   "metadata": {},
   "outputs": [
    {
     "name": "stderr",
     "output_type": "stream",
     "text": [
      "2023-12-11 11:13:46.958959: I tensorflow/core/platform/cpu_feature_guard.cc:182] This TensorFlow binary is optimized to use available CPU instructions in performance-critical operations.\n",
      "To enable the following instructions: AVX2 FMA, in other operations, rebuild TensorFlow with the appropriate compiler flags.\n",
      "2023-12-11 11:14:00.883979: I tensorflow/compiler/xla/stream_executor/cuda/cuda_gpu_executor.cc:995] successful NUMA node read from SysFS had negative value (-1), but there must be at least one NUMA node, so returning NUMA node zero. See more at https://github.com/torvalds/linux/blob/v6.0/Documentation/ABI/testing/sysfs-bus-pci#L344-L355\n",
      "2023-12-11 11:14:02.320438: I tensorflow/compiler/xla/stream_executor/cuda/cuda_gpu_executor.cc:995] successful NUMA node read from SysFS had negative value (-1), but there must be at least one NUMA node, so returning NUMA node zero. See more at https://github.com/torvalds/linux/blob/v6.0/Documentation/ABI/testing/sysfs-bus-pci#L344-L355\n",
      "2023-12-11 11:14:02.321012: I tensorflow/compiler/xla/stream_executor/cuda/cuda_gpu_executor.cc:995] successful NUMA node read from SysFS had negative value (-1), but there must be at least one NUMA node, so returning NUMA node zero. See more at https://github.com/torvalds/linux/blob/v6.0/Documentation/ABI/testing/sysfs-bus-pci#L344-L355\n"
     ]
    }
   ],
   "source": [
    "from clf_funcs import setup, get_cifar10_data, get_mnist_loaders, classifier_overlay, combine_model, FullyConnectedNet, SimpleConvNetBuilder, PerfCounterCallback\n",
    "from dcgan_funcs import train_dcgan, GeneratorBuilder, DiscriminatorBulider, get_celeba_loader, train_step\n",
    "\n",
    "import matplotlib.pyplot as plt\n",
    "\n",
    "import tensorflow as tf\n",
    "\n",
    "setup()"
   ]
  },
  {
   "cell_type": "code",
   "execution_count": 2,
   "metadata": {},
   "outputs": [],
   "source": [
    "batch_size = 69\n",
    "test_batch_size = 128\n",
    "epochs = 2\n",
    "lr = 1e-2\n",
    "momentum = 0.9\n",
    "num_classes = 10\n",
    "loss_func = tf.keras.losses.SparseCategoricalCrossentropy(from_logits=False)\n",
    "setup()"
   ]
  },
  {
   "cell_type": "code",
   "execution_count": 3,
   "metadata": {},
   "outputs": [
    {
     "name": "stderr",
     "output_type": "stream",
     "text": [
      "2023-11-20 15:04:20.751073: I tensorflow/compiler/xla/stream_executor/cuda/cuda_gpu_executor.cc:995] successful NUMA node read from SysFS had negative value (-1), but there must be at least one NUMA node, so returning NUMA node zero. See more at https://github.com/torvalds/linux/blob/v6.0/Documentation/ABI/testing/sysfs-bus-pci#L344-L355\n",
      "2023-11-20 15:04:20.751368: I tensorflow/compiler/xla/stream_executor/cuda/cuda_gpu_executor.cc:995] successful NUMA node read from SysFS had negative value (-1), but there must be at least one NUMA node, so returning NUMA node zero. See more at https://github.com/torvalds/linux/blob/v6.0/Documentation/ABI/testing/sysfs-bus-pci#L344-L355\n",
      "2023-11-20 15:04:20.751511: I tensorflow/compiler/xla/stream_executor/cuda/cuda_gpu_executor.cc:995] successful NUMA node read from SysFS had negative value (-1), but there must be at least one NUMA node, so returning NUMA node zero. See more at https://github.com/torvalds/linux/blob/v6.0/Documentation/ABI/testing/sysfs-bus-pci#L344-L355\n",
      "2023-11-20 15:04:21.226058: I tensorflow/compiler/xla/stream_executor/cuda/cuda_gpu_executor.cc:995] successful NUMA node read from SysFS had negative value (-1), but there must be at least one NUMA node, so returning NUMA node zero. See more at https://github.com/torvalds/linux/blob/v6.0/Documentation/ABI/testing/sysfs-bus-pci#L344-L355\n",
      "2023-11-20 15:04:21.226206: I tensorflow/compiler/xla/stream_executor/cuda/cuda_gpu_executor.cc:995] successful NUMA node read from SysFS had negative value (-1), but there must be at least one NUMA node, so returning NUMA node zero. See more at https://github.com/torvalds/linux/blob/v6.0/Documentation/ABI/testing/sysfs-bus-pci#L344-L355\n",
      "2023-11-20 15:04:21.226321: I tensorflow/compiler/xla/stream_executor/cuda/cuda_gpu_executor.cc:995] successful NUMA node read from SysFS had negative value (-1), but there must be at least one NUMA node, so returning NUMA node zero. See more at https://github.com/torvalds/linux/blob/v6.0/Documentation/ABI/testing/sysfs-bus-pci#L344-L355\n",
      "2023-11-20 15:04:21.226421: I tensorflow/core/common_runtime/gpu/gpu_device.cc:1639] Created device /job:localhost/replica:0/task:0/device:GPU:0 with 1500 MB memory:  -> device: 0, name: NVIDIA GeForce GTX 1050, pci bus id: 0000:01:00.0, compute capability: 6.1\n"
     ]
    }
   ],
   "source": [
    "model = combine_model(tf.keras.layers.Input(shape=(32,32,3)), tf.keras.applications.MobileNetV2, classifier_overlay)\n",
    "train_ds, test_ds = get_cifar10_data(tf.keras.applications.mobilenet_v2.preprocess_input)\n",
    "optimizer = tf.keras.optimizers.SGD(learning_rate=lr, momentum=momentum)\n",
    "model.compile(optimizer=optimizer, loss=loss_func, metrics=['accuracy'])"
   ]
  },
  {
   "cell_type": "code",
   "execution_count": 4,
   "metadata": {},
   "outputs": [
    {
     "name": "stderr",
     "output_type": "stream",
     "text": [
      "2023-11-20 15:04:32.232894: W tensorflow/tsl/framework/cpu_allocator_impl.cc:83] Allocation of 614400000 exceeds 10% of free system memory.\n",
      "2023-11-20 15:04:32.678912: W tensorflow/tsl/framework/cpu_allocator_impl.cc:83] Allocation of 614400000 exceeds 10% of free system memory.\n"
     ]
    },
    {
     "name": "stdout",
     "output_type": "stream",
     "text": [
      "Epoch 1/2\n"
     ]
    },
    {
     "name": "stderr",
     "output_type": "stream",
     "text": [
      "2023-11-20 15:04:38.430859: I tensorflow/compiler/xla/stream_executor/cuda/cuda_dnn.cc:432] Loaded cuDNN version 8600\n",
      "2023-11-20 15:04:40.698925: I tensorflow/compiler/xla/service/service.cc:168] XLA service 0x7f84f02fa690 initialized for platform CUDA (this does not guarantee that XLA will be used). Devices:\n",
      "2023-11-20 15:04:40.698950: I tensorflow/compiler/xla/service/service.cc:176]   StreamExecutor device (0): NVIDIA GeForce GTX 1050, Compute Capability 6.1\n",
      "2023-11-20 15:04:40.749472: I ./tensorflow/compiler/jit/device_compiler.h:186] Compiled cluster using XLA!  This line is logged at most once for the lifetime of the process.\n",
      "2023-11-20 15:04:42.654239: W tensorflow/tsl/framework/bfc_allocator.cc:296] Allocator (GPU_0_bfc) ran out of memory trying to allocate 1.08GiB with freed_by_count=0. The caller indicates that this is not a failure, but this may mean that there could be performance gains if more memory were available.\n",
      "2023-11-20 15:04:42.950969: W tensorflow/tsl/framework/bfc_allocator.cc:296] Allocator (GPU_0_bfc) ran out of memory trying to allocate 916.34MiB with freed_by_count=0. The caller indicates that this is not a failure, but this may mean that there could be performance gains if more memory were available.\n",
      "2023-11-20 15:04:43.043078: W tensorflow/tsl/framework/bfc_allocator.cc:296] Allocator (GPU_0_bfc) ran out of memory trying to allocate 740.69MiB with freed_by_count=0. The caller indicates that this is not a failure, but this may mean that there could be performance gains if more memory were available.\n",
      "2023-11-20 15:04:43.151037: W tensorflow/tsl/framework/bfc_allocator.cc:296] Allocator (GPU_0_bfc) ran out of memory trying to allocate 691.08MiB with freed_by_count=0. The caller indicates that this is not a failure, but this may mean that there could be performance gains if more memory were available.\n",
      "2023-11-20 15:04:43.351993: W tensorflow/tsl/framework/bfc_allocator.cc:296] Allocator (GPU_0_bfc) ran out of memory trying to allocate 499.63MiB with freed_by_count=0. The caller indicates that this is not a failure, but this may mean that there could be performance gains if more memory were available.\n",
      "2023-11-20 15:04:43.551705: I tensorflow/compiler/xla/stream_executor/cuda/cuda_driver.cc:753] failed to allocate 414.19MiB (434307072 bytes) from device: CUDA_ERROR_OUT_OF_MEMORY: out of memory\n",
      "2023-11-20 15:04:43.551730: W tensorflow/tsl/framework/bfc_allocator.cc:296] Allocator (GPU_0_bfc) ran out of memory trying to allocate 378.34MiB with freed_by_count=0. The caller indicates that this is not a failure, but this may mean that there could be performance gains if more memory were available.\n"
     ]
    },
    {
     "name": "stdout",
     "output_type": "stream",
     "text": [
      "724/725 [============================>.] - ETA: 0s - loss: 1.7456 - accuracy: 0.3532"
     ]
    },
    {
     "name": "stderr",
     "output_type": "stream",
     "text": [
      "2023-11-20 15:05:42.991472: W tensorflow/tsl/framework/bfc_allocator.cc:296] Allocator (GPU_0_bfc) ran out of memory trying to allocate 1.02GiB with freed_by_count=0. The caller indicates that this is not a failure, but this may mean that there could be performance gains if more memory were available.\n",
      "2023-11-20 15:05:43.029625: W tensorflow/tsl/framework/bfc_allocator.cc:296] Allocator (GPU_0_bfc) ran out of memory trying to allocate 916.21MiB with freed_by_count=0. The caller indicates that this is not a failure, but this may mean that there could be performance gains if more memory were available.\n",
      "2023-11-20 15:05:43.056997: W tensorflow/tsl/framework/bfc_allocator.cc:296] Allocator (GPU_0_bfc) ran out of memory trying to allocate 723.11MiB with freed_by_count=0. The caller indicates that this is not a failure, but this may mean that there could be performance gains if more memory were available.\n",
      "2023-11-20 15:05:43.091564: W tensorflow/tsl/framework/bfc_allocator.cc:296] Allocator (GPU_0_bfc) ran out of memory trying to allocate 691.05MiB with freed_by_count=0. The caller indicates that this is not a failure, but this may mean that there could be performance gains if more memory were available.\n",
      "2023-11-20 15:05:43.209105: I tensorflow/compiler/xla/stream_executor/cuda/cuda_driver.cc:753] failed to allocate 414.19MiB (434307072 bytes) from device: CUDA_ERROR_OUT_OF_MEMORY: out of memory\n"
     ]
    },
    {
     "name": "stdout",
     "output_type": "stream",
     "text": [
      "725/725 [==============================] - ETA: 0s - loss: 1.7453 - accuracy: 0.3533"
     ]
    },
    {
     "name": "stderr",
     "output_type": "stream",
     "text": [
      "2023-11-20 15:05:45.646649: I tensorflow/compiler/xla/stream_executor/cuda/cuda_driver.cc:753] failed to allocate 414.19MiB (434307072 bytes) from device: CUDA_ERROR_OUT_OF_MEMORY: out of memory\n"
     ]
    },
    {
     "name": "stdout",
     "output_type": "stream",
     "text": [
      "725/725 [==============================] - 75s 84ms/step - loss: 1.7453 - accuracy: 0.3533 - val_loss: 2.3089 - val_accuracy: 0.1000\n",
      "Epoch 2/2\n",
      "725/725 [==============================] - 57s 78ms/step - loss: 1.4098 - accuracy: 0.4893 - val_loss: 2.3318 - val_accuracy: 0.1000\n"
     ]
    }
   ],
   "source": [
    "train_history = model.fit(\n",
    "\ttrain_ds[0], train_ds[1],\n",
    "\tbatch_size=batch_size,\n",
    "\tvalidation_data=test_ds,\n",
    "\tvalidation_batch_size=test_batch_size,\n",
    "\tepochs=epochs,\n",
    "\tshuffle=True,\n",
    ")"
   ]
  },
  {
   "cell_type": "code",
   "execution_count": 7,
   "metadata": {},
   "outputs": [
    {
     "data": {
      "text/plain": [
       "{'loss': [1.745261549949646, 1.4098153114318848],\n",
       " 'accuracy': [0.3533399999141693, 0.489300012588501],\n",
       " 'val_loss': [2.30887508392334, 2.3317720890045166],\n",
       " 'val_accuracy': [0.10000000149011612, 0.10000000149011612]}"
      ]
     },
     "execution_count": 7,
     "metadata": {},
     "output_type": "execute_result"
    }
   ],
   "source": [
    "train_history.history"
   ]
  },
  {
   "cell_type": "code",
   "execution_count": 23,
   "metadata": {},
   "outputs": [
    {
     "data": {
      "text/plain": [
       "<matplotlib.image.AxesImage at 0x7effb0506590>"
      ]
     },
     "execution_count": 23,
     "metadata": {},
     "output_type": "execute_result"
    },
    {
     "data": {
      "image/png": "[encoded data removed]",
      "text/plain": [
       "<Figure size 640x480 with 1 Axes>"
      ]
     },
     "metadata": {},
     "output_type": "display_data"
    }
   ],
   "source": [
    "generator = GeneratorBuilder(100, 64)\n",
    "\n",
    "noise = tf.random.normal([1, 100])\n",
    "generated_image = generator(noise, training=False)\n",
    "\n",
    "plt.imshow(generated_image[0, :, :, 0], cmap='gray')"
   ]
  },
  {
   "cell_type": "code",
   "execution_count": 27,
   "metadata": {},
   "outputs": [
    {
     "data": {
      "text/plain": [
       "<tf.Tensor: shape=(1, 1), dtype=float32, numpy=array([[1.9833589]], dtype=float32)>"
      ]
     },
     "execution_count": 27,
     "metadata": {},
     "output_type": "execute_result"
    }
   ],
   "source": [
    "discriminator = DiscriminatorBulider()\n",
    "\n",
    "discriminator(generated_image)"
   ]
  },
  {
   "cell_type": "code",
   "execution_count": 4,
   "metadata": {},
   "outputs": [
    {
     "data": {
      "image/jpeg": "[encoded data removed]",
      "image/png": "[encoded data removed]",
      "text/plain": [
       "<PIL.JpegImagePlugin.JpegImageFile image mode=RGB size=178x218>"
      ]
     },
     "metadata": {},
     "output_type": "display_data"
    },
    {
     "name": "stdout",
     "output_type": "stream",
     "text": [
      "Found 202599 files belonging to 1 classes.\n"
     ]
    },
    {
     "name": "stderr",
     "output_type": "stream",
     "text": [
      "2023-11-27 21:00:48.919038: I tensorflow/compiler/xla/stream_executor/cuda/cuda_gpu_executor.cc:995] successful NUMA node read from SysFS had negative value (-1), but there must be at least one NUMA node, so returning NUMA node zero. See more at https://github.com/torvalds/linux/blob/v6.0/Documentation/ABI/testing/sysfs-bus-pci#L344-L355\n",
      "2023-11-27 21:00:48.919394: I tensorflow/compiler/xla/stream_executor/cuda/cuda_gpu_executor.cc:995] successful NUMA node read from SysFS had negative value (-1), but there must be at least one NUMA node, so returning NUMA node zero. See more at https://github.com/torvalds/linux/blob/v6.0/Documentation/ABI/testing/sysfs-bus-pci#L344-L355\n",
      "2023-11-27 21:00:48.919689: I tensorflow/compiler/xla/stream_executor/cuda/cuda_gpu_executor.cc:995] successful NUMA node read from SysFS had negative value (-1), but there must be at least one NUMA node, so returning NUMA node zero. See more at https://github.com/torvalds/linux/blob/v6.0/Documentation/ABI/testing/sysfs-bus-pci#L344-L355\n",
      "2023-11-27 21:00:52.598248: I tensorflow/compiler/xla/stream_executor/cuda/cuda_gpu_executor.cc:995] successful NUMA node read from SysFS had negative value (-1), but there must be at least one NUMA node, so returning NUMA node zero. See more at https://github.com/torvalds/linux/blob/v6.0/Documentation/ABI/testing/sysfs-bus-pci#L344-L355\n",
      "2023-11-27 21:00:52.598422: I tensorflow/compiler/xla/stream_executor/cuda/cuda_gpu_executor.cc:995] successful NUMA node read from SysFS had negative value (-1), but there must be at least one NUMA node, so returning NUMA node zero. See more at https://github.com/torvalds/linux/blob/v6.0/Documentation/ABI/testing/sysfs-bus-pci#L344-L355\n",
      "2023-11-27 21:00:52.598544: I tensorflow/compiler/xla/stream_executor/cuda/cuda_gpu_executor.cc:995] successful NUMA node read from SysFS had negative value (-1), but there must be at least one NUMA node, so returning NUMA node zero. See more at https://github.com/torvalds/linux/blob/v6.0/Documentation/ABI/testing/sysfs-bus-pci#L344-L355\n",
      "2023-11-27 21:00:52.598685: I tensorflow/core/common_runtime/gpu/gpu_device.cc:1639] Created device /job:localhost/replica:0/task:0/device:GPU:0 with 1500 MB memory:  -> device: 0, name: NVIDIA GeForce GTX 1050, pci bus id: 0000:01:00.0, compute capability: 6.1\n"
     ]
    }
   ],
   "source": [
    "import pathlib\n",
    "import PIL\n",
    "import PIL.Image\n",
    "import tensorflow as tf\n",
    "from IPython.display import display\n",
    "\n",
    "celeba_imgs_paths = list(pathlib \\\n",
    "\t.Path('../datasets/celeba/img_align_celeba/') \\\n",
    "\t.glob('*.jpg')\n",
    ")\n",
    "len(celeba_imgs_paths)\n",
    "\n",
    "display(PIL.Image.open(celeba_imgs_paths[0]))\n",
    "\n",
    "train_ds = tf.keras.utils.image_dataset_from_directory(\n",
    "  pathlib.Path('../datasets/celeba'),\n",
    "  label_mode=None,\n",
    "  seed=123,\n",
    "  image_size=(64, 64),\n",
    "  batch_size=128)\n",
    "\n",
    "def get_celeba_loader(batch_size, image_size=64):\n",
    "    return tf.keras.utils.image_dataset_from_directory(\n",
    "        pathlib.Path('../datasets/celeba'),\n",
    "        label_mode=None,\n",
    "        seed=123,\n",
    "        image_size=(image_size, image_size),\n",
    "        batch_size=batch_size\n",
    "    )"
   ]
  },
  {
   "cell_type": "code",
   "execution_count": 7,
   "metadata": {},
   "outputs": [
    {
     "data": {
      "image/jpeg": "[encoded data removed]",
      "image/png": "[encoded data removed]",
      "text/plain": [
       "<PIL.Image.Image image mode=RGB size=64x64>"
      ]
     },
     "metadata": {},
     "output_type": "display_data"
    }
   ],
   "source": [
    "for b in train_ds:\n",
    "\tdisplay(tf.keras.utils.array_to_img(b[0]))\n",
    "\tbreak"
   ]
  },
  {
   "cell_type": "code",
   "execution_count": null,
   "metadata": {},
   "outputs": [],
   "source": [
    "cross_entropy = tf.keras.losses.BinaryCrossentropy(from_logits=True)\n",
    "generator_optimizer = tf.keras.optimizers.Adam(1e-4)\n",
    "discriminator_optimizer = tf.keras.optimizers.Adam(1e-4)\n"
   ]
  },
  {
   "cell_type": "code",
   "execution_count": 1,
   "metadata": {},
   "outputs": [
    {
     "name": "stderr",
     "output_type": "stream",
     "text": [
      "2023-11-27 21:13:13.711718: I tensorflow/core/platform/cpu_feature_guard.cc:182] This TensorFlow binary is optimized to use available CPU instructions in performance-critical operations.\n",
      "To enable the following instructions: AVX2 FMA, in other operations, rebuild TensorFlow with the appropriate compiler flags.\n",
      "2023-11-27 21:13:15.509423: I tensorflow/compiler/xla/stream_executor/cuda/cuda_gpu_executor.cc:995] successful NUMA node read from SysFS had negative value (-1), but there must be at least one NUMA node, so returning NUMA node zero. See more at https://github.com/torvalds/linux/blob/v6.0/Documentation/ABI/testing/sysfs-bus-pci#L344-L355\n",
      "2023-11-27 21:13:15.513608: I tensorflow/compiler/xla/stream_executor/cuda/cuda_gpu_executor.cc:995] successful NUMA node read from SysFS had negative value (-1), but there must be at least one NUMA node, so returning NUMA node zero. See more at https://github.com/torvalds/linux/blob/v6.0/Documentation/ABI/testing/sysfs-bus-pci#L344-L355\n",
      "2023-11-27 21:13:15.513889: I tensorflow/compiler/xla/stream_executor/cuda/cuda_gpu_executor.cc:995] successful NUMA node read from SysFS had negative value (-1), but there must be at least one NUMA node, so returning NUMA node zero. See more at https://github.com/torvalds/linux/blob/v6.0/Documentation/ABI/testing/sysfs-bus-pci#L344-L355\n"
     ]
    }
   ],
   "source": [
    "import tensorflow as tf\n",
    "from tf_funcs import GeneratorBuilder, DiscriminatorBulider, get_celeba_loader\n",
    "import pandas as pd\n",
    "import multiprocessing as mp\n",
    "import matplotlib.pyplot as plt\n",
    "\n",
    "def setup():\n",
    "\tgpus = tf.config.experimental.list_physical_devices('GPU')\n",
    "\tif gpus:\n",
    "\t\ttry:\n",
    "\t\t\tfor gpu in gpus:\n",
    "\t\t\t\ttf.config.experimental.set_memory_growth(gpu, True)\n",
    "\t\texcept RuntimeError as e:\n",
    "\t\t\tprint(e)\n",
    "\n",
    "setup()"
   ]
  },
  {
   "cell_type": "code",
   "execution_count": 13,
   "metadata": {},
   "outputs": [],
   "source": [
    "# Notice the use of `tf.function`\n",
    "# This annotation causes the function to be \"compiled\".\n",
    "@tf.function\n",
    "def train_step(modelG, modelD, optG, optD, imgs_batch, loss_func, latent_vec_size=100):\n",
    "\tnoise = tf.random.normal([imgs_batch.shape[0], latent_vec_size])\n",
    "\n",
    "\twith tf.GradientTape() as gen_tape, tf.GradientTape() as disc_tape:\n",
    "\t\tgenerated_images = modelG(noise, training=True)\n",
    "\n",
    "\t\treal_output = modelD(imgs_batch, training=True)\n",
    "\t\tfake_output = modelD(generated_images, training=True)\n",
    "\t\tD_x = tf.reduce_mean(real_output)\n",
    "\t\tD_G_z1 = tf.reduce_mean(fake_output)\n",
    "\n",
    "\t\t# generator loss\n",
    "\t\tgen_loss = loss_func(tf.ones_like(fake_output), fake_output)\n",
    "\n",
    "\t\t# discrimanator loss\n",
    "\t\treal_loss = loss_func(tf.ones_like(real_output), real_output)\n",
    "\t\tfake_loss = loss_func(tf.zeros_like(fake_output), fake_output)\n",
    "\t\tdisc_loss = real_loss + fake_loss\n",
    "\n",
    "\tgradients_of_generator = gen_tape.gradient(gen_loss, modelG.trainable_variables)\n",
    "\tgradients_of_discriminator = disc_tape.gradient(disc_loss, modelD.trainable_variables)\n",
    "\n",
    "\toptG.apply_gradients(zip(gradients_of_generator, modelG.trainable_variables))\n",
    "\toptD.apply_gradients(zip(gradients_of_discriminator, modelD.trainable_variables))\n",
    "\n",
    "\tfake_output_graded = modelD(generated_images)\n",
    "\tD_G_z2 = tf.reduce_mean(fake_output_graded)\n",
    "\n",
    "\treturn gen_loss, disc_loss, D_x, D_G_z1, D_G_z2\n"
   ]
  },
  {
   "cell_type": "code",
   "execution_count": 14,
   "metadata": {},
   "outputs": [],
   "source": [
    "import numpy as np\n",
    "import time\n",
    "\n",
    "def train_dcgan(config, telemetry, child_conn):\n",
    "\tprint('Benchmarks for DCGAN begin')\n",
    "\tsetup()\n",
    "\n",
    "\tceleba_ds = get_celeba_loader(config['batch_size'])\n",
    "\tmodelG = GeneratorBuilder()\n",
    "\tmodelD = DiscriminatorBulider()\n",
    "\toptG = tf.keras.optimizers.Adam(config['lr'])\n",
    "\toptD = tf.keras.optimizers.Adam(config['lr'])\n",
    "\t# both need to be of tf.Variable type for tf.Funciton train_step\n",
    "\tloss_func = config['loss_func_GAN']\n",
    "\tlatent_vec_size = config['latent_vec_size']\n",
    "\n",
    "\trunning_loss_G, running_loss_D = 0.0, 0.0\n",
    "\trunning_D_x, running_D_G_z1, running_D_G_z2 = 0.0, 0.0, 0.0\n",
    "\n",
    "\tfor epoch in range(config['epochs']):\n",
    "\t\thistory = {\n",
    "\t\t\t'loss_G': [],\n",
    "\t\t\t'loss_D': [],\n",
    "\t\t\t'D_x': [],\n",
    "\t\t\t'D_G_z1': [],\n",
    "\t\t\t'D_G_z2': []\n",
    "\t\t}\n",
    "\t\tstart = time.perf_counter_ns()\n",
    "\t\tfor batch_idx, data in enumerate(celeba_ds):\n",
    "\t\t\terrG, errD, D_x, D_G_z1, D_G_z2 = train_step(modelG, modelD, optG, optD, data, loss_func)\n",
    "\n",
    "\t\t\t# batch telemetry\n",
    "\t\t\trunning_loss_G += errG\n",
    "\t\t\trunning_loss_D += errD\n",
    "\t\t\trunning_D_x += D_x\n",
    "\t\t\trunning_D_G_z1 += D_G_z1\n",
    "\t\t\trunning_D_G_z2 += D_G_z2\n",
    "\t\t\tif batch_idx % config['log_interval'] == config['log_interval'] - 1:\n",
    "\t\t\t\thistory['loss_G'].append(running_loss_G / config['log_interval'])\n",
    "\t\t\t\thistory['loss_D'].append(running_loss_D / config['log_interval'])\n",
    "\t\t\t\thistory['D_x'].append(running_D_x / config['log_interval'])\n",
    "\t\t\t\thistory['D_G_z1'].append(running_D_G_z1 / config['log_interval'])\n",
    "\t\t\t\thistory['D_G_z2'].append(running_D_G_z2 / config['log_interval'])\n",
    "\n",
    "\t\t\t\tif not config['silent']:\n",
    "\t\t\t\t\tprint('[%d][%d/%d]\\tLoss_G: %.4f\\tLoss_D: %.4f\\tD(x): %.4f\\tD(G(z)): %.4f / %.4f'\n",
    "\t\t\t\t\t  % (epoch, batch_idx, len(celeba_ds),\n",
    "\t\t\t\t\t\t errG, errD, D_x, D_G_z1, D_G_z2))\n",
    "\t\t\t\t\t\n",
    "\t\tend = time.perf_counter_ns()\n",
    "\t\t\t\t\t\n",
    "\t\t# epoch telemetry\n",
    "\t\tfor stat in history:\n",
    "\t\t\thistory[stat] = np.sum(history[stat]) / len(history[stat])\n",
    "\n",
    "\t\ttelemetry['model_name'].append('DCGAN')\n",
    "\t\ttelemetry['type'].append('training')\n",
    "\t\ttelemetry['epoch'].append(epoch)\n",
    "\t\ttelemetry['loss'].append(f'{history[\"loss_G\"]}|{history[\"loss_D\"]}')\n",
    "\t\ttelemetry['performance'].append(f'{history[\"D_x\"]}|{history[\"D_G_z1\"]}|{history[\"D_G_z2\"]}')\n",
    "\t\ttelemetry['elapsed_time'].append(end - start)\n",
    "\n",
    "\t\t# generation\n",
    "\t\tnoise = tf.random.normal([config['test_batch_size'], config['latent_vec_size']])\n",
    "\t\tstart = time.perf_counter_ns()\n",
    "\t\t_ = modelG(noise)\n",
    "\t\tend = time.perf_counter_ns()\n",
    "\n",
    "\t\t# generation telemetry\n",
    "\t\ttelemetry['model_name'].append('DCGAN')\n",
    "\t\ttelemetry['type'].append('generation')\n",
    "\t\ttelemetry['epoch'].append(1)\n",
    "\t\ttelemetry['loss'].append(-1)\n",
    "\t\ttelemetry['performance'].append(-1)\n",
    "\t\ttelemetry['elapsed_time'].append(end - start)\n",
    "\n",
    "\t\t# child_conn.send(telemetry)\n",
    "\t\tpd.DataFrame(telemetry).to_csv(f'../results/tensorflow_results.csv', index=False)\n",
    "\n",
    "\t\tdel modelG, modelD, celeba_ds\n"
   ]
  },
  {
   "cell_type": "code",
   "execution_count": 15,
   "metadata": {},
   "outputs": [],
   "source": [
    "config = {\n",
    "\t'batch_size': 96,\n",
    "\t'test_batch_size': 128,\n",
    "\t'epochs': 2,\n",
    "\t'lr': 1e-4,\n",
    "\t'loss_func_GAN': tf.keras.losses.BinaryCrossentropy(from_logits=True),\n",
    "\t'log_interval': 200,\n",
    "\t'silent': False,\n",
    "\t'latent_vec_size': 100\n",
    "}\n",
    "\n",
    "telemetry = {\n",
    "\t'model_name': [],\n",
    "\t'type': [],\n",
    "\t'epoch': [],\n",
    "\t'loss': [],\n",
    "\t'performance': [],\n",
    "\t'elapsed_time': []\n",
    "}\n",
    "\n",
    "generator_optimizer = tf.keras.optimizers.Adam(1e-4)\n",
    "discriminator_optimizer = tf.keras.optimizers.Adam(1e-4)\n",
    "\n",
    "generator = GeneratorBuilder()\n",
    "discriminator = DiscriminatorBulider()"
   ]
  },
  {
   "cell_type": "code",
   "execution_count": 3,
   "metadata": {},
   "outputs": [
    {
     "name": "stdout",
     "output_type": "stream",
     "text": [
      "Model: \"sequential\"\n",
      "_________________________________________________________________\n",
      " Layer (type)                Output Shape              Param #   \n",
      "=================================================================\n",
      " dense (Dense)               (None, 8192)              819200    \n",
      "                                                                 \n",
      " re_lu (ReLU)                (None, 8192)              0         \n",
      "                                                                 \n",
      " reshape (Reshape)           (None, 4, 4, 512)         0         \n",
      "                                                                 \n",
      " conv2d_transpose (Conv2DTr  (None, 8, 8, 256)         2097152   \n",
      " anspose)                                                        \n",
      "                                                                 \n",
      " batch_normalization (Batch  (None, 8, 8, 256)         1024      \n",
      " Normalization)                                                  \n",
      "                                                                 \n",
      " re_lu_1 (ReLU)              (None, 8, 8, 256)         0         \n",
      "                                                                 \n",
      " conv2d_transpose_1 (Conv2D  (None, 16, 16, 128)       524288    \n",
      " Transpose)                                                      \n",
      "                                                                 \n",
      " batch_normalization_1 (Bat  (None, 16, 16, 128)       512       \n",
      " chNormalization)                                                \n",
      "                                                                 \n",
      " re_lu_2 (ReLU)              (None, 16, 16, 128)       0         \n",
      "                                                                 \n",
      " conv2d_transpose_2 (Conv2D  (None, 32, 32, 64)        131072    \n",
      " Transpose)                                                      \n",
      "                                                                 \n",
      " batch_normalization_2 (Bat  (None, 32, 32, 64)        256       \n",
      " chNormalization)                                                \n",
      "                                                                 \n",
      " re_lu_3 (ReLU)              (None, 32, 32, 64)        0         \n",
      "                                                                 \n",
      " conv2d_transpose_3 (Conv2D  (None, 64, 64, 3)         3072      \n",
      " Transpose)                                                      \n",
      "                                                                 \n",
      "=================================================================\n",
      "Total params: 3576576 (13.64 MB)\n",
      "Trainable params: 3575680 (13.64 MB)\n",
      "Non-trainable params: 896 (3.50 KB)\n",
      "_________________________________________________________________\n"
     ]
    },
    {
     "name": "stderr",
     "output_type": "stream",
     "text": [
      "2023-12-03 21:19:16.353250: I tensorflow/compiler/xla/stream_executor/cuda/cuda_gpu_executor.cc:995] successful NUMA node read from SysFS had negative value (-1), but there must be at least one NUMA node, so returning NUMA node zero. See more at https://github.com/torvalds/linux/blob/v6.0/Documentation/ABI/testing/sysfs-bus-pci#L344-L355\n",
      "2023-12-03 21:19:16.353562: I tensorflow/compiler/xla/stream_executor/cuda/cuda_gpu_executor.cc:995] successful NUMA node read from SysFS had negative value (-1), but there must be at least one NUMA node, so returning NUMA node zero. See more at https://github.com/torvalds/linux/blob/v6.0/Documentation/ABI/testing/sysfs-bus-pci#L344-L355\n",
      "2023-12-03 21:19:16.353712: I tensorflow/compiler/xla/stream_executor/cuda/cuda_gpu_executor.cc:995] successful NUMA node read from SysFS had negative value (-1), but there must be at least one NUMA node, so returning NUMA node zero. See more at https://github.com/torvalds/linux/blob/v6.0/Documentation/ABI/testing/sysfs-bus-pci#L344-L355\n",
      "2023-12-03 21:19:16.819208: I tensorflow/compiler/xla/stream_executor/cuda/cuda_gpu_executor.cc:995] successful NUMA node read from SysFS had negative value (-1), but there must be at least one NUMA node, so returning NUMA node zero. See more at https://github.com/torvalds/linux/blob/v6.0/Documentation/ABI/testing/sysfs-bus-pci#L344-L355\n",
      "2023-12-03 21:19:16.819394: I tensorflow/compiler/xla/stream_executor/cuda/cuda_gpu_executor.cc:995] successful NUMA node read from SysFS had negative value (-1), but there must be at least one NUMA node, so returning NUMA node zero. See more at https://github.com/torvalds/linux/blob/v6.0/Documentation/ABI/testing/sysfs-bus-pci#L344-L355\n",
      "2023-12-03 21:19:16.819509: I tensorflow/compiler/xla/stream_executor/cuda/cuda_gpu_executor.cc:995] successful NUMA node read from SysFS had negative value (-1), but there must be at least one NUMA node, so returning NUMA node zero. See more at https://github.com/torvalds/linux/blob/v6.0/Documentation/ABI/testing/sysfs-bus-pci#L344-L355\n",
      "2023-12-03 21:19:16.819612: I tensorflow/core/common_runtime/gpu/gpu_device.cc:1639] Created device /job:localhost/replica:0/task:0/device:GPU:0 with 1500 MB memory:  -> device: 0, name: NVIDIA GeForce GTX 1050, pci bus id: 0000:01:00.0, compute capability: 6.1\n"
     ]
    }
   ],
   "source": [
    "generator = GeneratorBuilder()\n",
    "generator.summary()"
   ]
  },
  {
   "cell_type": "code",
   "execution_count": 7,
   "metadata": {},
   "outputs": [
    {
     "name": "stdout",
     "output_type": "stream",
     "text": [
      "Model: \"sequential_3\"\n",
      "_________________________________________________________________\n",
      " Layer (type)                Output Shape              Param #   \n",
      "=================================================================\n",
      " conv2d_4 (Conv2D)           (None, 32, 32, 64)        3072      \n",
      "                                                                 \n",
      " leaky_re_lu_3 (LeakyReLU)   (None, 32, 32, 64)        0         \n",
      "                                                                 \n",
      " conv2d_5 (Conv2D)           (None, 16, 16, 128)       131072    \n",
      "                                                                 \n",
      " batch_normalization_10 (Ba  (None, 16, 16, 128)       512       \n",
      " tchNormalization)                                               \n",
      "                                                                 \n",
      " leaky_re_lu_4 (LeakyReLU)   (None, 16, 16, 128)       0         \n",
      "                                                                 \n",
      " conv2d_6 (Conv2D)           (None, 8, 8, 256)         524288    \n",
      "                                                                 \n",
      " batch_normalization_11 (Ba  (None, 8, 8, 256)         1024      \n",
      " tchNormalization)                                               \n",
      "                                                                 \n",
      " leaky_re_lu_5 (LeakyReLU)   (None, 8, 8, 256)         0         \n",
      "                                                                 \n",
      " conv2d_7 (Conv2D)           (None, 4, 4, 512)         2097152   \n",
      "                                                                 \n",
      " flatten_1 (Flatten)         (None, 8192)              0         \n",
      "                                                                 \n",
      " dense_3 (Dense)             (None, 1)                 8193      \n",
      "                                                                 \n",
      "=================================================================\n",
      "Total params: 2765313 (10.55 MB)\n",
      "Trainable params: 2764545 (10.55 MB)\n",
      "Non-trainable params: 768 (3.00 KB)\n",
      "_________________________________________________________________\n"
     ]
    }
   ],
   "source": [
    "discriminator = DiscriminatorBulider()\n",
    "discriminator.summary()"
   ]
  },
  {
   "cell_type": "code",
   "execution_count": 5,
   "metadata": {},
   "outputs": [],
   "source": [
    "config = {\n",
    "\t'batch_size': 96,\n",
    "\t'test_batch_size': 128,\n",
    "\t'epochs': 1,\n",
    "\t'lr': 1e-4,\n",
    "\t'momentum': 0.0,\n",
    "\t'inputs': tf.keras.layers.Input(shape=(32,32,3)),\n",
    "\t'loss_func': tf.keras.losses.SparseCategoricalCrossentropy(from_logits=False),\n",
    "\t'loss_func_GAN': tf.keras.losses.BinaryCrossentropy(from_logits=True),\n",
    "\t'log_interval': 200,\n",
    "\t'silent': False,\n",
    "\t'latent_vec_size': 100\n",
    "}"
   ]
  },
  {
   "cell_type": "code",
   "execution_count": 4,
   "metadata": {},
   "outputs": [
    {
     "name": "stderr",
     "output_type": "stream",
     "text": [
      "2023-12-03 19:48:43.428075: I tensorflow/compiler/xla/stream_executor/cuda/cuda_gpu_executor.cc:995] successful NUMA node read from SysFS had negative value (-1), but there must be at least one NUMA node, so returning NUMA node zero. See more at https://github.com/torvalds/linux/blob/v6.0/Documentation/ABI/testing/sysfs-bus-pci#L344-L355\n",
      "2023-12-03 19:48:43.428434: I tensorflow/compiler/xla/stream_executor/cuda/cuda_gpu_executor.cc:995] successful NUMA node read from SysFS had negative value (-1), but there must be at least one NUMA node, so returning NUMA node zero. See more at https://github.com/torvalds/linux/blob/v6.0/Documentation/ABI/testing/sysfs-bus-pci#L344-L355\n",
      "2023-12-03 19:48:43.428567: I tensorflow/compiler/xla/stream_executor/cuda/cuda_gpu_executor.cc:995] successful NUMA node read from SysFS had negative value (-1), but there must be at least one NUMA node, so returning NUMA node zero. See more at https://github.com/torvalds/linux/blob/v6.0/Documentation/ABI/testing/sysfs-bus-pci#L344-L355\n",
      "2023-12-03 19:48:47.120929: I tensorflow/compiler/xla/stream_executor/cuda/cuda_gpu_executor.cc:995] successful NUMA node read from SysFS had negative value (-1), but there must be at least one NUMA node, so returning NUMA node zero. See more at https://github.com/torvalds/linux/blob/v6.0/Documentation/ABI/testing/sysfs-bus-pci#L344-L355\n",
      "2023-12-03 19:48:47.121252: I tensorflow/compiler/xla/stream_executor/cuda/cuda_gpu_executor.cc:995] successful NUMA node read from SysFS had negative value (-1), but there must be at least one NUMA node, so returning NUMA node zero. See more at https://github.com/torvalds/linux/blob/v6.0/Documentation/ABI/testing/sysfs-bus-pci#L344-L355\n",
      "2023-12-03 19:48:47.121523: I tensorflow/compiler/xla/stream_executor/cuda/cuda_gpu_executor.cc:995] successful NUMA node read from SysFS had negative value (-1), but there must be at least one NUMA node, so returning NUMA node zero. See more at https://github.com/torvalds/linux/blob/v6.0/Documentation/ABI/testing/sysfs-bus-pci#L344-L355\n",
      "2023-12-03 19:48:47.121748: I tensorflow/core/common_runtime/gpu/gpu_device.cc:1639] Created device /job:localhost/replica:0/task:0/device:GPU:0 with 1500 MB memory:  -> device: 0, name: NVIDIA GeForce GTX 1050, pci bus id: 0000:01:00.0, compute capability: 6.1\n",
      "2023-12-03 19:48:47.144988: W tensorflow/tsl/framework/cpu_allocator_impl.cc:83] Allocation of 376320000 exceeds 10% of free system memory.\n",
      "2023-12-03 19:48:47.635593: W tensorflow/tsl/framework/cpu_allocator_impl.cc:83] Allocation of 376320000 exceeds 10% of free system memory.\n",
      "2023-12-03 19:48:48.062743: W tensorflow/tsl/framework/cpu_allocator_impl.cc:83] Allocation of 376320000 exceeds 10% of free system memory.\n",
      "2023-12-03 19:48:49.289981: I tensorflow/compiler/xla/service/service.cc:168] XLA service 0x7f556c01ee70 initialized for platform CUDA (this does not guarantee that XLA will be used). Devices:\n",
      "2023-12-03 19:48:49.290085: I tensorflow/compiler/xla/service/service.cc:176]   StreamExecutor device (0): NVIDIA GeForce GTX 1050, Compute Capability 6.1\n",
      "2023-12-03 19:48:50.339558: I tensorflow/compiler/xla/stream_executor/cuda/cuda_dnn.cc:432] Loaded cuDNN version 8600\n",
      "2023-12-03 19:48:51.845992: I ./tensorflow/compiler/jit/device_compiler.h:186] Compiled cluster using XLA!  This line is logged at most once for the lifetime of the process.\n"
     ]
    },
    {
     "name": "stdout",
     "output_type": "stream",
     "text": [
      "625/625 [==============================] - 5s 3ms/step - loss: 2.3188 - accuracy: 0.1503 - val_loss: 2.2060 - val_accuracy: 0.2311\n",
      "Model: \"fully_connected_net\"\n",
      "_________________________________________________________________\n",
      " Layer (type)                Output Shape              Param #   \n",
      "=================================================================\n",
      " sequential (Sequential)     (None, 800)               628000    \n",
      "                                                                 \n",
      " dense_1 (Dense)             multiple                  8010      \n",
      "                                                                 \n",
      "=================================================================\n",
      "Total params: 636010 (2.43 MB)\n",
      "Trainable params: 636010 (2.43 MB)\n",
      "Non-trainable params: 0 (0.00 Byte)\n",
      "_________________________________________________________________\n"
     ]
    }
   ],
   "source": [
    "train_ds, test_ds = get_mnist_loaders(config['batch_size'], config['test_batch_size'])\n",
    "\n",
    "fcnet = FullyConnectedNet()\n",
    "optimizer = tf.keras.optimizers.SGD(learning_rate=config['lr'], momentum=config['momentum'])\n",
    "fcnet.compile(optimizer=optimizer, loss=config['loss_func'], metrics=['accuracy'])\n",
    "fcnet.fit(\n",
    "\ttrain_ds,\n",
    "\tvalidation_data=test_ds,\n",
    "\tvalidation_batch_size=config['test_batch_size'],\n",
    "\tepochs=config['epochs']\n",
    "\t\t)\n",
    "fcnet.summary()"
   ]
  },
  {
   "cell_type": "code",
   "execution_count": 14,
   "metadata": {},
   "outputs": [
    {
     "name": "stdout",
     "output_type": "stream",
     "text": [
      "Model: \"sequential_10\"\n",
      "_________________________________________________________________\n",
      " Layer (type)                Output Shape              Param #   \n",
      "=================================================================\n",
      " conv2d_18 (Conv2D)          (None, 28, 28, 16)        416       \n",
      "                                                                 \n",
      " max_pooling2d_18 (MaxPooli  (None, 14, 14, 16)        0         \n",
      " ng2D)                                                           \n",
      "                                                                 \n",
      " conv2d_19 (Conv2D)          (None, 14, 14, 32)        12832     \n",
      "                                                                 \n",
      " max_pooling2d_19 (MaxPooli  (None, 7, 7, 32)          0         \n",
      " ng2D)                                                           \n",
      "                                                                 \n",
      " flatten_9 (Flatten)         (None, 1568)              0         \n",
      "                                                                 \n",
      " dense_23 (Dense)            (None, 500)               784500    \n",
      "                                                                 \n",
      " dense_24 (Dense)            (None, 10)                5010      \n",
      "                                                                 \n",
      "=================================================================\n",
      "Total params: 802758 (3.06 MB)\n",
      "Trainable params: 802758 (3.06 MB)\n",
      "Non-trainable params: 0 (0.00 Byte)\n",
      "_________________________________________________________________\n"
     ]
    }
   ],
   "source": [
    "def SimpleConvNetBuilder2(num_classes=10):\n",
    "\tlayers = [\n",
    "\t\ttf.keras.Input(shape=(28, 28, 1)),\n",
    "\t\ttf.keras.layers.Conv2D(16, kernel_size=5, padding=\"same\", activation='relu'),\n",
    "\t\ttf.keras.layers.MaxPooling2D(pool_size=(2, 2)),\n",
    "\t\ttf.keras.layers.Conv2D(32, kernel_size=5, padding=\"same\", activation='relu'),\n",
    "\t\ttf.keras.layers.MaxPooling2D(pool_size=(2, 2)),\n",
    "\t\ttf.keras.layers.Flatten(),\n",
    "\t\ttf.keras.layers.Dense(500, activation='relu'),\n",
    "\t\ttf.keras.layers.Dense(num_classes, activation='softmax'),\n",
    "\t]\n",
    "\treturn tf.keras.Sequential(layers)\n",
    "\n",
    "scvnet = SimpleConvNetBuilder2()\n",
    "scvnet.build(tf.keras.layers.Input(shape=(28,28,1)))\n",
    "scvnet.summary()"
   ]
  },
  {
   "cell_type": "code",
   "execution_count": 6,
   "metadata": {},
   "outputs": [
    {
     "name": "stderr",
     "output_type": "stream",
     "text": [
      "2023-12-11 11:22:49.157758: I tensorflow/compiler/xla/stream_executor/cuda/cuda_gpu_executor.cc:995] successful NUMA node read from SysFS had negative value (-1), but there must be at least one NUMA node, so returning NUMA node zero. See more at https://github.com/torvalds/linux/blob/v6.0/Documentation/ABI/testing/sysfs-bus-pci#L344-L355\n",
      "2023-12-11 11:22:49.158372: I tensorflow/compiler/xla/stream_executor/cuda/cuda_gpu_executor.cc:995] successful NUMA node read from SysFS had negative value (-1), but there must be at least one NUMA node, so returning NUMA node zero. See more at https://github.com/torvalds/linux/blob/v6.0/Documentation/ABI/testing/sysfs-bus-pci#L344-L355\n",
      "2023-12-11 11:22:49.158840: I tensorflow/compiler/xla/stream_executor/cuda/cuda_gpu_executor.cc:995] successful NUMA node read from SysFS had negative value (-1), but there must be at least one NUMA node, so returning NUMA node zero. See more at https://github.com/torvalds/linux/blob/v6.0/Documentation/ABI/testing/sysfs-bus-pci#L344-L355\n",
      "2023-12-11 11:22:52.917965: I tensorflow/compiler/xla/stream_executor/cuda/cuda_gpu_executor.cc:995] successful NUMA node read from SysFS had negative value (-1), but there must be at least one NUMA node, so returning NUMA node zero. See more at https://github.com/torvalds/linux/blob/v6.0/Documentation/ABI/testing/sysfs-bus-pci#L344-L355\n",
      "2023-12-11 11:22:52.918384: I tensorflow/compiler/xla/stream_executor/cuda/cuda_gpu_executor.cc:995] successful NUMA node read from SysFS had negative value (-1), but there must be at least one NUMA node, so returning NUMA node zero. See more at https://github.com/torvalds/linux/blob/v6.0/Documentation/ABI/testing/sysfs-bus-pci#L344-L355\n",
      "2023-12-11 11:22:52.918740: I tensorflow/compiler/xla/stream_executor/cuda/cuda_gpu_executor.cc:995] successful NUMA node read from SysFS had negative value (-1), but there must be at least one NUMA node, so returning NUMA node zero. See more at https://github.com/torvalds/linux/blob/v6.0/Documentation/ABI/testing/sysfs-bus-pci#L344-L355\n",
      "2023-12-11 11:22:52.919115: I tensorflow/core/common_runtime/gpu/gpu_device.cc:1639] Created device /job:localhost/replica:0/task:0/device:GPU:0 with 1448 MB memory:  -> device: 0, name: NVIDIA GeForce GTX 1050, pci bus id: 0000:01:00.0, compute capability: 6.1\n"
     ]
    },
    {
     "name": "stdout",
     "output_type": "stream",
     "text": [
      "Model: \"model\"\n",
      "_________________________________________________________________\n",
      " Layer (type)                Output Shape              Param #   \n",
      "=================================================================\n",
      " input_1 (InputLayer)        [(None, 32, 32, 3)]       0         \n",
      "                                                                 \n",
      " resizing (Resizing)         (None, 32, 32, 3)         0         \n",
      "                                                                 \n",
      " resnet50 (Functional)       (None, 1, 1, 2048)        23587712  \n",
      "                                                                 \n",
      " global_average_pooling2d (  (None, 2048)              0         \n",
      " GlobalAveragePooling2D)                                         \n",
      "                                                                 \n",
      " flatten (Flatten)           (None, 2048)              0         \n",
      "                                                                 \n",
      " classification (Dense)      (None, 10)                20490     \n",
      "                                                                 \n",
      "=================================================================\n",
      "Total params: 23608202 (90.06 MB)\n",
      "Trainable params: 23555082 (89.86 MB)\n",
      "Non-trainable params: 53120 (207.50 KB)\n",
      "_________________________________________________________________\n"
     ]
    }
   ],
   "source": [
    "from clf_funcs import combine_model, classifier_overlay\n",
    "rn = combine_model(config['inputs'], tf.keras.applications.ResNet50, classifier_overlay)\n",
    "rn.summary()"
   ]
  },
  {
   "cell_type": "code",
   "execution_count": 7,
   "metadata": {},
   "outputs": [
    {
     "name": "stdout",
     "output_type": "stream",
     "text": [
      "Model: \"model_1\"\n",
      "_________________________________________________________________\n",
      " Layer (type)                Output Shape              Param #   \n",
      "=================================================================\n",
      " input_1 (InputLayer)        [(None, 32, 32, 3)]       0         \n",
      "                                                                 \n",
      " resizing_1 (Resizing)       (None, 32, 32, 3)         0         \n",
      "                                                                 \n",
      " mobilenetv2_1.00_32 (Funct  (None, 1, 1, 1280)        2257984   \n",
      " ional)                                                          \n",
      "                                                                 \n",
      " global_average_pooling2d_1  (None, 1280)              0         \n",
      "  (GlobalAveragePooling2D)                                       \n",
      "                                                                 \n",
      " flatten_1 (Flatten)         (None, 1280)              0         \n",
      "                                                                 \n",
      " classification (Dense)      (None, 10)                12810     \n",
      "                                                                 \n",
      "=================================================================\n",
      "Total params: 2270794 (8.66 MB)\n",
      "Trainable params: 2236682 (8.53 MB)\n",
      "Non-trainable params: 34112 (133.25 KB)\n",
      "_________________________________________________________________\n"
     ]
    }
   ],
   "source": [
    "mobile = combine_model(config['inputs'], tf.keras.applications.MobileNetV2, classifier_overlay)\n",
    "mobile.summary()"
   ]
  }
 ],
 "metadata": {
  "kernelspec": {
   "display_name": "Python 3",
   "language": "python",
   "name": "python3"
  },
  "language_info": {
   "codemirror_mode": {
    "name": "ipython",
    "version": 3
   },
   "file_extension": ".py",
   "mimetype": "text/x-python",
   "name": "python",
   "nbconvert_exporter": "python",
   "pygments_lexer": "ipython3",
   "version": "3.11.5"
  }
 },
 "nbformat": 4,
 "nbformat_minor": 2
}
