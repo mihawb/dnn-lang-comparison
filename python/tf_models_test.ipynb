{
 "cells": [
  {
   "cell_type": "code",
   "execution_count": 1,
   "metadata": {},
   "outputs": [
    {
     "name": "stderr",
     "output_type": "stream",
     "text": [
      "2023-05-17 00:21:58.539999: I tensorflow/core/platform/cpu_feature_guard.cc:182] This TensorFlow binary is optimized to use available CPU instructions in performance-critical operations.\n",
      "To enable the following instructions: AVX2 FMA, in other operations, rebuild TensorFlow with the appropriate compiler flags.\n"
     ]
    }
   ],
   "source": [
    "import matplotlib.pyplot as plt\n",
    "import tensorflow as tf"
   ]
  },
  {
   "cell_type": "code",
   "execution_count": 8,
   "metadata": {},
   "outputs": [],
   "source": [
    "def get_cifar10_loaders(batch_size, test_batch_size=None, image_size=224):\n",
    "\tif not test_batch_size: test_batch_size = batch_size * 2\n",
    "\n",
    "\ttransform = tf.keras.Sequential([\n",
    "\t\ttf.keras.layers.Rescaling(scale=1./255),\n",
    "\t\ttf.keras.layers.Resizing(image_size, image_size)\n",
    "\t])\n",
    "\n",
    "\n",
    "\t(x_train, y_train), (x_test, y_test) = tf.keras.datasets.cifar10.load_data() \n",
    "\n",
    "\ttrain_ds = tf.data.Dataset.from_tensor_slices((x_train, y_train))\n",
    "\ttrain_ds = train_ds.shuffle(buffer_size=1024).batch(batch_size).map(lambda x, y: (transform(x), y))\n",
    "\n",
    "\ttest_ds = tf.data.Dataset.from_tensor_slices((x_test, y_test))\n",
    "\ttest_ds = test_ds.batch(test_batch_size).map(lambda x, y: (transform(x), y))\n",
    "\n",
    "\treturn train_ds, test_ds"
   ]
  },
  {
   "cell_type": "code",
   "execution_count": 9,
   "metadata": {},
   "outputs": [],
   "source": [
    "dupa, tylek = get_cifar10_loaders(32)"
   ]
  },
  {
   "cell_type": "code",
   "execution_count": 10,
   "metadata": {},
   "outputs": [],
   "source": [
    "# config\n",
    "batch_size = 128\n",
    "test_batch_size = 512\n",
    "epochs = 5\n",
    "lr = 1e-2\n",
    "momentum = 0.9\n",
    "log_interval = 200 # ?\n",
    "loss_func = tf.keras.losses.SparseCategoricalCrossentropy(from_logits=False)\n",
    "# from_logits=False in case of softmax activation, =True in any other case\n",
    "# logits being whot comes out of output neurons after feed forward before applying last activation\n",
    "\n",
    "# no need to check whether CUDA is used as it is prioritized by default in TensorFlow\n",
    "# device used printed out at model compilation\n",
    "\n",
    "train_ds, test_ds = get_cifar10_loaders(32)"
   ]
  }
 ],
 "metadata": {
  "kernelspec": {
   "display_name": "Python 3",
   "language": "python",
   "name": "python3"
  },
  "language_info": {
   "codemirror_mode": {
    "name": "ipython",
    "version": 3
   },
   "file_extension": ".py",
   "mimetype": "text/x-python",
   "name": "python",
   "nbconvert_exporter": "python",
   "pygments_lexer": "ipython3",
   "version": "3.11.3"
  },
  "orig_nbformat": 4
 },
 "nbformat": 4,
 "nbformat_minor": 2
}
