{
 "cells": [
  {
   "cell_type": "code",
   "execution_count": 1,
   "metadata": {},
   "outputs": [
    {
     "name": "stdout",
     "output_type": "stream",
     "text": [
      "CUDA enabled: True\n"
     ]
    }
   ],
   "source": [
    "from clf_funcs import env_builder\n",
    "\n",
    "import pandas as pd\n",
    "from tqdm import trange\n",
    "\n",
    "import torch\n",
    "\n",
    "use_cuda = torch.cuda.is_available()\n",
    "device = torch.device(\"cuda\" if use_cuda else \"cpu\")\n",
    "print(f'CUDA enabled: {use_cuda}')\n",
    "\n",
    "torch.set_grad_enabled(False)\n",
    "\n",
    "INDEX = 2"
   ]
  },
  {
   "cell_type": "code",
   "execution_count": 2,
   "metadata": {},
   "outputs": [],
   "source": [
    "telemetry = {\n",
    "\t'framework': [],\n",
    "\t'model_name': [],\n",
    "\t'rep': [],\n",
    "\t'batch_size': [],\n",
    "\t'elapsed_time': []\n",
    "}\n",
    "warmup_steps = 100\n",
    "repetitions = 50\n",
    "start = torch.cuda.Event(enable_timing=True)\n",
    "end = torch.cuda.Event(enable_timing=True)"
   ]
  },
  {
   "cell_type": "code",
   "execution_count": 3,
   "metadata": {},
   "outputs": [
    {
     "name": "stderr",
     "output_type": "stream",
     "text": [
      "Warmup for FullyConnectedNet (batch of 1): 100%|██████████| 100/100 [00:06<00:00, 15.02it/s]\n",
      "Benchmark for FullyConnectedNet (batch of 1): 100%|██████████| 50/50 [00:00<00:00, 4193.21it/s]\n",
      "Warmup for FullyConnectedNet (batch of 16): 100%|██████████| 100/100 [00:00<00:00, 1677.38it/s]\n",
      "Benchmark for FullyConnectedNet (batch of 16): 100%|██████████| 50/50 [00:00<00:00, 2092.59it/s]\n",
      "Warmup for FullyConnectedNet (batch of 32): 100%|██████████| 100/100 [00:00<00:00, 2466.37it/s]\n",
      "Benchmark for FullyConnectedNet (batch of 32): 100%|██████████| 50/50 [00:00<00:00, 5084.62it/s]\n",
      "Warmup for FullyConnectedNet (batch of 64): 100%|██████████| 100/100 [00:00<00:00, 8407.61it/s]\n",
      "Benchmark for FullyConnectedNet (batch of 64): 100%|██████████| 50/50 [00:00<00:00, 3877.80it/s]\n",
      "Warmup for FullyConnectedNet (batch of 96): 100%|██████████| 100/100 [00:00<00:00, 8138.59it/s]\n",
      "Benchmark for FullyConnectedNet (batch of 96): 100%|██████████| 50/50 [00:00<00:00, 2161.54it/s]\n",
      "Warmup for FullyConnectedNet (batch of 128): 100%|██████████| 100/100 [00:00<00:00, 7983.98it/s]\n",
      "Benchmark for FullyConnectedNet (batch of 128): 100%|██████████| 50/50 [00:00<00:00, 2017.64it/s]\n",
      "Warmup for FullyConnectedNet (batch of 192): 100%|██████████| 100/100 [00:00<00:00, 8307.86it/s]\n",
      "Benchmark for FullyConnectedNet (batch of 192): 100%|██████████| 50/50 [00:00<00:00, 1969.27it/s]\n",
      "Warmup for FullyConnectedNet (batch of 256): 100%|██████████| 100/100 [00:00<00:00, 8114.03it/s]\n",
      "Benchmark for FullyConnectedNet (batch of 256): 100%|██████████| 50/50 [00:00<00:00, 1173.01it/s]\n",
      "Warmup for SimpleConvNet (batch of 1): 100%|██████████| 100/100 [00:10<00:00,  9.27it/s]\n",
      "Benchmark for SimpleConvNet (batch of 1): 100%|██████████| 50/50 [00:00<00:00, 3170.78it/s]\n",
      "Warmup for SimpleConvNet (batch of 16): 100%|██████████| 100/100 [00:00<00:00, 413.83it/s]\n",
      "Benchmark for SimpleConvNet (batch of 16): 100%|██████████| 50/50 [00:00<00:00, 1819.40it/s]\n",
      "Warmup for SimpleConvNet (batch of 32): 100%|██████████| 100/100 [00:00<00:00, 3413.36it/s]\n",
      "Benchmark for SimpleConvNet (batch of 32): 100%|██████████| 50/50 [00:00<00:00, 819.80it/s]\n",
      "Warmup for SimpleConvNet (batch of 64): 100%|██████████| 100/100 [00:00<00:00, 2808.92it/s]\n",
      "Benchmark for SimpleConvNet (batch of 64): 100%|██████████| 50/50 [00:00<00:00, 462.61it/s]\n",
      "Warmup for SimpleConvNet (batch of 96): 100%|██████████| 100/100 [00:00<00:00, 809.51it/s]\n",
      "Benchmark for SimpleConvNet (batch of 96): 100%|██████████| 50/50 [00:00<00:00, 292.98it/s]\n",
      "Warmup for SimpleConvNet (batch of 128): 100%|██████████| 100/100 [00:00<00:00, 1436.76it/s]\n",
      "Benchmark for SimpleConvNet (batch of 128): 100%|██████████| 50/50 [00:00<00:00, 231.26it/s]\n",
      "Warmup for SimpleConvNet (batch of 192): 100%|██████████| 100/100 [00:00<00:00, 987.36it/s]\n",
      "Benchmark for SimpleConvNet (batch of 192): 100%|██████████| 50/50 [00:00<00:00, 158.72it/s]\n",
      "Warmup for SimpleConvNet (batch of 256): 100%|██████████| 100/100 [00:00<00:00, 764.89it/s]\n",
      "Benchmark for SimpleConvNet (batch of 256): 100%|██████████| 50/50 [00:00<00:00, 120.83it/s]\n"
     ]
    },
    {
     "name": "stdout",
     "output_type": "stream",
     "text": [
      "Files already downloaded and verified\n",
      "Files already downloaded and verified\n"
     ]
    },
    {
     "name": "stderr",
     "output_type": "stream",
     "text": [
      "Warmup for ResNet-50 (batch of 1): 100%|██████████| 100/100 [00:00<00:00, 102.56it/s]\n",
      "Benchmark for ResNet-50 (batch of 1): 100%|██████████| 50/50 [00:00<00:00, 148.55it/s]\n"
     ]
    },
    {
     "name": "stdout",
     "output_type": "stream",
     "text": [
      "Files already downloaded and verified\n",
      "Files already downloaded and verified\n"
     ]
    },
    {
     "name": "stderr",
     "output_type": "stream",
     "text": [
      "Warmup for ResNet-50 (batch of 16): 100%|██████████| 100/100 [00:01<00:00, 94.67it/s]\n",
      "Benchmark for ResNet-50 (batch of 16): 100%|██████████| 50/50 [00:00<00:00, 87.26it/s]\n"
     ]
    },
    {
     "name": "stdout",
     "output_type": "stream",
     "text": [
      "Files already downloaded and verified\n",
      "Files already downloaded and verified\n"
     ]
    },
    {
     "name": "stderr",
     "output_type": "stream",
     "text": [
      "Warmup for ResNet-50 (batch of 32): 100%|██████████| 100/100 [00:01<00:00, 59.61it/s]\n",
      "Benchmark for ResNet-50 (batch of 32): 100%|██████████| 50/50 [00:00<00:00, 53.49it/s]\n"
     ]
    },
    {
     "name": "stdout",
     "output_type": "stream",
     "text": [
      "Files already downloaded and verified\n",
      "Files already downloaded and verified\n"
     ]
    },
    {
     "name": "stderr",
     "output_type": "stream",
     "text": [
      "Warmup for ResNet-50 (batch of 64): 100%|██████████| 100/100 [00:02<00:00, 33.91it/s]\n",
      "Benchmark for ResNet-50 (batch of 64): 100%|██████████| 50/50 [00:01<00:00, 29.82it/s]\n"
     ]
    },
    {
     "name": "stdout",
     "output_type": "stream",
     "text": [
      "Files already downloaded and verified\n",
      "Files already downloaded and verified\n"
     ]
    },
    {
     "name": "stderr",
     "output_type": "stream",
     "text": [
      "Warmup for ResNet-50 (batch of 96): 100%|██████████| 100/100 [00:04<00:00, 23.14it/s]\n",
      "Benchmark for ResNet-50 (batch of 96): 100%|██████████| 50/50 [00:02<00:00, 20.28it/s]\n"
     ]
    },
    {
     "name": "stdout",
     "output_type": "stream",
     "text": [
      "Files already downloaded and verified\n",
      "Files already downloaded and verified\n"
     ]
    },
    {
     "name": "stderr",
     "output_type": "stream",
     "text": [
      "Warmup for ResNet-50 (batch of 128): 100%|██████████| 100/100 [00:05<00:00, 18.32it/s]\n",
      "Benchmark for ResNet-50 (batch of 128): 100%|██████████| 50/50 [00:03<00:00, 16.06it/s]\n"
     ]
    },
    {
     "name": "stdout",
     "output_type": "stream",
     "text": [
      "Files already downloaded and verified\n",
      "Files already downloaded and verified\n"
     ]
    },
    {
     "name": "stderr",
     "output_type": "stream",
     "text": [
      "Warmup for ResNet-50 (batch of 192): 100%|██████████| 100/100 [00:07<00:00, 13.08it/s]\n",
      "Benchmark for ResNet-50 (batch of 192): 100%|██████████| 50/50 [00:04<00:00, 11.40it/s]\n"
     ]
    },
    {
     "name": "stdout",
     "output_type": "stream",
     "text": [
      "Files already downloaded and verified\n",
      "Files already downloaded and verified\n"
     ]
    },
    {
     "name": "stderr",
     "output_type": "stream",
     "text": [
      "Warmup for ResNet-50 (batch of 256): 100%|██████████| 100/100 [00:09<00:00, 10.07it/s]\n",
      "Benchmark for ResNet-50 (batch of 256): 100%|██████████| 50/50 [00:05<00:00,  8.80it/s]\n"
     ]
    },
    {
     "name": "stdout",
     "output_type": "stream",
     "text": [
      "Files already downloaded and verified\n",
      "Files already downloaded and verified\n"
     ]
    },
    {
     "name": "stderr",
     "output_type": "stream",
     "text": [
      "Warmup for DenseNet-121 (batch of 1): 100%|██████████| 100/100 [00:01<00:00, 62.18it/s]\n",
      "Benchmark for DenseNet-121 (batch of 1): 100%|██████████| 50/50 [00:00<00:00, 70.12it/s]\n"
     ]
    },
    {
     "name": "stdout",
     "output_type": "stream",
     "text": [
      "Files already downloaded and verified\n",
      "Files already downloaded and verified\n"
     ]
    },
    {
     "name": "stderr",
     "output_type": "stream",
     "text": [
      "Warmup for DenseNet-121 (batch of 16): 100%|██████████| 100/100 [00:01<00:00, 69.82it/s]\n",
      "Benchmark for DenseNet-121 (batch of 16): 100%|██████████| 50/50 [00:00<00:00, 71.96it/s]\n"
     ]
    },
    {
     "name": "stdout",
     "output_type": "stream",
     "text": [
      "Files already downloaded and verified\n",
      "Files already downloaded and verified\n"
     ]
    },
    {
     "name": "stderr",
     "output_type": "stream",
     "text": [
      "Warmup for DenseNet-121 (batch of 32): 100%|██████████| 100/100 [00:01<00:00, 62.58it/s]\n",
      "Benchmark for DenseNet-121 (batch of 32): 100%|██████████| 50/50 [00:00<00:00, 60.53it/s]\n"
     ]
    },
    {
     "name": "stdout",
     "output_type": "stream",
     "text": [
      "Files already downloaded and verified\n",
      "Files already downloaded and verified\n"
     ]
    },
    {
     "name": "stderr",
     "output_type": "stream",
     "text": [
      "Warmup for DenseNet-121 (batch of 64): 100%|██████████| 100/100 [00:02<00:00, 36.50it/s]\n",
      "Benchmark for DenseNet-121 (batch of 64): 100%|██████████| 50/50 [00:01<00:00, 34.91it/s]\n"
     ]
    },
    {
     "name": "stdout",
     "output_type": "stream",
     "text": [
      "Files already downloaded and verified\n",
      "Files already downloaded and verified\n"
     ]
    },
    {
     "name": "stderr",
     "output_type": "stream",
     "text": [
      "Warmup for DenseNet-121 (batch of 96): 100%|██████████| 100/100 [00:03<00:00, 25.93it/s]\n",
      "Benchmark for DenseNet-121 (batch of 96): 100%|██████████| 50/50 [00:02<00:00, 24.63it/s]\n"
     ]
    },
    {
     "name": "stdout",
     "output_type": "stream",
     "text": [
      "Files already downloaded and verified\n",
      "Files already downloaded and verified\n"
     ]
    },
    {
     "name": "stderr",
     "output_type": "stream",
     "text": [
      "Warmup for DenseNet-121 (batch of 128): 100%|██████████| 100/100 [00:05<00:00, 19.90it/s]\n",
      "Benchmark for DenseNet-121 (batch of 128): 100%|██████████| 50/50 [00:02<00:00, 18.80it/s]\n"
     ]
    },
    {
     "name": "stdout",
     "output_type": "stream",
     "text": [
      "Files already downloaded and verified\n",
      "Files already downloaded and verified\n"
     ]
    },
    {
     "name": "stderr",
     "output_type": "stream",
     "text": [
      "Warmup for DenseNet-121 (batch of 192): 100%|██████████| 100/100 [00:07<00:00, 13.92it/s]\n",
      "Benchmark for DenseNet-121 (batch of 192): 100%|██████████| 50/50 [00:03<00:00, 13.09it/s]\n"
     ]
    },
    {
     "name": "stdout",
     "output_type": "stream",
     "text": [
      "Files already downloaded and verified\n",
      "Files already downloaded and verified\n"
     ]
    },
    {
     "name": "stderr",
     "output_type": "stream",
     "text": [
      "Warmup for DenseNet-121 (batch of 256): 100%|██████████| 100/100 [00:09<00:00, 10.46it/s]\n",
      "Benchmark for DenseNet-121 (batch of 256): 100%|██████████| 50/50 [00:05<00:00,  9.88it/s]\n"
     ]
    },
    {
     "name": "stdout",
     "output_type": "stream",
     "text": [
      "Files already downloaded and verified\n",
      "Files already downloaded and verified\n"
     ]
    },
    {
     "name": "stderr",
     "output_type": "stream",
     "text": [
      "Warmup for MobileNet-v2 (batch of 1): 100%|██████████| 100/100 [00:00<00:00, 162.31it/s]\n",
      "Benchmark for MobileNet-v2 (batch of 1): 100%|██████████| 50/50 [00:00<00:00, 184.55it/s]\n"
     ]
    },
    {
     "name": "stdout",
     "output_type": "stream",
     "text": [
      "Files already downloaded and verified\n",
      "Files already downloaded and verified\n"
     ]
    },
    {
     "name": "stderr",
     "output_type": "stream",
     "text": [
      "Warmup for MobileNet-v2 (batch of 16): 100%|██████████| 100/100 [00:00<00:00, 170.26it/s]\n",
      "Benchmark for MobileNet-v2 (batch of 16): 100%|██████████| 50/50 [00:00<00:00, 178.73it/s]\n"
     ]
    },
    {
     "name": "stdout",
     "output_type": "stream",
     "text": [
      "Files already downloaded and verified\n",
      "Files already downloaded and verified\n"
     ]
    },
    {
     "name": "stderr",
     "output_type": "stream",
     "text": [
      "Warmup for MobileNet-v2 (batch of 32): 100%|██████████| 100/100 [00:00<00:00, 177.45it/s]\n",
      "Benchmark for MobileNet-v2 (batch of 32): 100%|██████████| 50/50 [00:00<00:00, 156.67it/s]\n"
     ]
    },
    {
     "name": "stdout",
     "output_type": "stream",
     "text": [
      "Files already downloaded and verified\n",
      "Files already downloaded and verified\n"
     ]
    },
    {
     "name": "stderr",
     "output_type": "stream",
     "text": [
      "Warmup for MobileNet-v2 (batch of 64): 100%|██████████| 100/100 [00:00<00:00, 106.85it/s]\n",
      "Benchmark for MobileNet-v2 (batch of 64): 100%|██████████| 50/50 [00:00<00:00, 90.38it/s]\n"
     ]
    },
    {
     "name": "stdout",
     "output_type": "stream",
     "text": [
      "Files already downloaded and verified\n",
      "Files already downloaded and verified\n"
     ]
    },
    {
     "name": "stderr",
     "output_type": "stream",
     "text": [
      "Warmup for MobileNet-v2 (batch of 96): 100%|██████████| 100/100 [00:01<00:00, 74.08it/s]\n",
      "Benchmark for MobileNet-v2 (batch of 96): 100%|██████████| 50/50 [00:00<00:00, 62.23it/s]\n"
     ]
    },
    {
     "name": "stdout",
     "output_type": "stream",
     "text": [
      "Files already downloaded and verified\n",
      "Files already downloaded and verified\n"
     ]
    },
    {
     "name": "stderr",
     "output_type": "stream",
     "text": [
      "Warmup for MobileNet-v2 (batch of 128): 100%|██████████| 100/100 [00:01<00:00, 56.76it/s]\n",
      "Benchmark for MobileNet-v2 (batch of 128): 100%|██████████| 50/50 [00:01<00:00, 47.52it/s]\n"
     ]
    },
    {
     "name": "stdout",
     "output_type": "stream",
     "text": [
      "Files already downloaded and verified\n",
      "Files already downloaded and verified\n"
     ]
    },
    {
     "name": "stderr",
     "output_type": "stream",
     "text": [
      "Warmup for MobileNet-v2 (batch of 192): 100%|██████████| 100/100 [00:02<00:00, 39.29it/s]\n",
      "Benchmark for MobileNet-v2 (batch of 192): 100%|██████████| 50/50 [00:01<00:00, 33.03it/s]\n"
     ]
    },
    {
     "name": "stdout",
     "output_type": "stream",
     "text": [
      "Files already downloaded and verified\n",
      "Files already downloaded and verified\n"
     ]
    },
    {
     "name": "stderr",
     "output_type": "stream",
     "text": [
      "Warmup for MobileNet-v2 (batch of 256): 100%|██████████| 100/100 [00:03<00:00, 31.12it/s]\n",
      "Benchmark for MobileNet-v2 (batch of 256): 100%|██████████| 50/50 [00:01<00:00, 26.21it/s]\n"
     ]
    },
    {
     "name": "stdout",
     "output_type": "stream",
     "text": [
      "Files already downloaded and verified\n",
      "Files already downloaded and verified\n"
     ]
    },
    {
     "name": "stderr",
     "output_type": "stream",
     "text": [
      "Warmup for ConvNeXt-Tiny (batch of 1): 100%|██████████| 100/100 [00:00<00:00, 146.46it/s]\n",
      "Benchmark for ConvNeXt-Tiny (batch of 1): 100%|██████████| 50/50 [00:00<00:00, 176.80it/s]\n"
     ]
    },
    {
     "name": "stdout",
     "output_type": "stream",
     "text": [
      "Files already downloaded and verified\n",
      "Files already downloaded and verified\n"
     ]
    },
    {
     "name": "stderr",
     "output_type": "stream",
     "text": [
      "Warmup for ConvNeXt-Tiny (batch of 16): 100%|██████████| 100/100 [00:00<00:00, 134.84it/s]\n",
      "Benchmark for ConvNeXt-Tiny (batch of 16): 100%|██████████| 50/50 [00:00<00:00, 113.74it/s]\n"
     ]
    },
    {
     "name": "stdout",
     "output_type": "stream",
     "text": [
      "Files already downloaded and verified\n",
      "Files already downloaded and verified\n"
     ]
    },
    {
     "name": "stderr",
     "output_type": "stream",
     "text": [
      "Warmup for ConvNeXt-Tiny (batch of 32): 100%|██████████| 100/100 [00:01<00:00, 90.16it/s]\n",
      "Benchmark for ConvNeXt-Tiny (batch of 32): 100%|██████████| 50/50 [00:00<00:00, 76.12it/s]\n"
     ]
    },
    {
     "name": "stdout",
     "output_type": "stream",
     "text": [
      "Files already downloaded and verified\n",
      "Files already downloaded and verified\n"
     ]
    },
    {
     "name": "stderr",
     "output_type": "stream",
     "text": [
      "Warmup for ConvNeXt-Tiny (batch of 64): 100%|██████████| 100/100 [00:01<00:00, 55.81it/s]\n",
      "Benchmark for ConvNeXt-Tiny (batch of 64): 100%|██████████| 50/50 [00:01<00:00, 47.24it/s]\n"
     ]
    },
    {
     "name": "stdout",
     "output_type": "stream",
     "text": [
      "Files already downloaded and verified\n",
      "Files already downloaded and verified\n"
     ]
    },
    {
     "name": "stderr",
     "output_type": "stream",
     "text": [
      "Warmup for ConvNeXt-Tiny (batch of 96): 100%|██████████| 100/100 [00:02<00:00, 40.36it/s]\n",
      "Benchmark for ConvNeXt-Tiny (batch of 96): 100%|██████████| 50/50 [00:01<00:00, 33.88it/s]\n"
     ]
    },
    {
     "name": "stdout",
     "output_type": "stream",
     "text": [
      "Files already downloaded and verified\n",
      "Files already downloaded and verified\n"
     ]
    },
    {
     "name": "stderr",
     "output_type": "stream",
     "text": [
      "Warmup for ConvNeXt-Tiny (batch of 128): 100%|██████████| 100/100 [00:03<00:00, 30.56it/s]\n",
      "Benchmark for ConvNeXt-Tiny (batch of 128): 100%|██████████| 50/50 [00:01<00:00, 25.63it/s]\n"
     ]
    },
    {
     "name": "stdout",
     "output_type": "stream",
     "text": [
      "Files already downloaded and verified\n",
      "Files already downloaded and verified\n"
     ]
    },
    {
     "name": "stderr",
     "output_type": "stream",
     "text": [
      "Warmup for ConvNeXt-Tiny (batch of 192): 100%|██████████| 100/100 [00:04<00:00, 21.39it/s]\n",
      "Benchmark for ConvNeXt-Tiny (batch of 192): 100%|██████████| 50/50 [00:02<00:00, 17.86it/s]\n"
     ]
    },
    {
     "name": "stdout",
     "output_type": "stream",
     "text": [
      "Files already downloaded and verified\n",
      "Files already downloaded and verified\n"
     ]
    },
    {
     "name": "stderr",
     "output_type": "stream",
     "text": [
      "Warmup for ConvNeXt-Tiny (batch of 256): 100%|██████████| 100/100 [00:06<00:00, 15.70it/s]\n",
      "Benchmark for ConvNeXt-Tiny (batch of 256): 100%|██████████| 50/50 [00:03<00:00, 13.16it/s]\n"
     ]
    }
   ],
   "source": [
    "for model_name in ['FullyConnectedNet', 'SimpleConvNet', 'ResNet-50', 'DenseNet-121', 'MobileNet-v2', 'ConvNeXt-Tiny']:\n",
    "\tfor batch_size in [1, 16, 32, 64, 96, 128, 192, 256]:\n",
    "\t\tmodel, dl, _, _ = env_builder(model_name, 10, batch_size, None)\n",
    "\t\tmodel.eval()\n",
    "\t\tmodel = model.to(device)\n",
    "\t\tsample = next(iter(dl))[0].to(device)\n",
    "\n",
    "\t\tfor i in trange(warmup_steps, desc=f\"Warmup for {model_name} (batch of {batch_size})\"):\n",
    "\t\t\t_ = model(sample)\n",
    "\n",
    "\t\tfor i in trange(1, repetitions+1, desc=f\"Benchmark for {model_name} (batch of {batch_size})\"):\n",
    "\t\t\tstart.record()\n",
    "\t\t\t_ = model(sample)\n",
    "\t\t\tend.record()\n",
    "\t\t\ttorch.cuda.synchronize()\n",
    "\n",
    "\t\t\ttelemetry['framework'].append(\"PyTorch\")\n",
    "\t\t\ttelemetry['model_name'].append(model_name)\n",
    "\t\t\ttelemetry['rep'].append(i)\n",
    "\t\t\ttelemetry['batch_size'].append(batch_size)\n",
    "\t\t\ttelemetry['elapsed_time'].append(start.elapsed_time(end))"
   ]
  },
  {
   "cell_type": "code",
   "execution_count": 4,
   "metadata": {},
   "outputs": [],
   "source": [
    "pd.DataFrame(telemetry).to_csv(f\"../../results_ultimate_0/pytorch-batch-size-comp-{INDEX}.csv\", index=False)"
   ]
  },
  {
   "cell_type": "code",
   "execution_count": 5,
   "metadata": {},
   "outputs": [
    {
     "data": {
      "text/html": [
       "<div>\n",
       "<style scoped>\n",
       "    .dataframe tbody tr th:only-of-type {\n",
       "        vertical-align: middle;\n",
       "    }\n",
       "\n",
       "    .dataframe tbody tr th {\n",
       "        vertical-align: top;\n",
       "    }\n",
       "\n",
       "    .dataframe thead th {\n",
       "        text-align: right;\n",
       "    }\n",
       "</style>\n",
       "<table border=\"1\" class=\"dataframe\">\n",
       "  <thead>\n",
       "    <tr style=\"text-align: right;\">\n",
       "      <th></th>\n",
       "      <th>model_name</th>\n",
       "      <th>batch_size</th>\n",
       "      <th>elapsed_time</th>\n",
       "    </tr>\n",
       "  </thead>\n",
       "  <tbody>\n",
       "    <tr>\n",
       "      <th>0</th>\n",
       "      <td>FullyConnectedNet</td>\n",
       "      <td>1</td>\n",
       "      <td>0.408576</td>\n",
       "    </tr>\n",
       "    <tr>\n",
       "      <th>1</th>\n",
       "      <td>FullyConnectedNet</td>\n",
       "      <td>1</td>\n",
       "      <td>0.271360</td>\n",
       "    </tr>\n",
       "    <tr>\n",
       "      <th>2</th>\n",
       "      <td>FullyConnectedNet</td>\n",
       "      <td>1</td>\n",
       "      <td>0.251904</td>\n",
       "    </tr>\n",
       "    <tr>\n",
       "      <th>3</th>\n",
       "      <td>FullyConnectedNet</td>\n",
       "      <td>1</td>\n",
       "      <td>0.246784</td>\n",
       "    </tr>\n",
       "    <tr>\n",
       "      <th>4</th>\n",
       "      <td>FullyConnectedNet</td>\n",
       "      <td>1</td>\n",
       "      <td>0.237568</td>\n",
       "    </tr>\n",
       "  </tbody>\n",
       "</table>\n",
       "</div>"
      ],
      "text/plain": [
       "          model_name  batch_size  elapsed_time\n",
       "0  FullyConnectedNet           1      0.408576\n",
       "1  FullyConnectedNet           1      0.271360\n",
       "2  FullyConnectedNet           1      0.251904\n",
       "3  FullyConnectedNet           1      0.246784\n",
       "4  FullyConnectedNet           1      0.237568"
      ]
     },
     "metadata": {},
     "output_type": "display_data"
    },
    {
     "data": {
      "text/html": [
       "<div>\n",
       "<style scoped>\n",
       "    .dataframe tbody tr th:only-of-type {\n",
       "        vertical-align: middle;\n",
       "    }\n",
       "\n",
       "    .dataframe tbody tr th {\n",
       "        vertical-align: top;\n",
       "    }\n",
       "\n",
       "    .dataframe thead th {\n",
       "        text-align: right;\n",
       "    }\n",
       "</style>\n",
       "<table border=\"1\" class=\"dataframe\">\n",
       "  <thead>\n",
       "    <tr style=\"text-align: right;\">\n",
       "      <th></th>\n",
       "      <th>model_name</th>\n",
       "      <th>batch_size</th>\n",
       "      <th>elapsed_time</th>\n",
       "    </tr>\n",
       "  </thead>\n",
       "  <tbody>\n",
       "    <tr>\n",
       "      <th>0</th>\n",
       "      <td>ConvNeXt-Tiny</td>\n",
       "      <td>1</td>\n",
       "      <td>5.606831</td>\n",
       "    </tr>\n",
       "    <tr>\n",
       "      <th>1</th>\n",
       "      <td>ConvNeXt-Tiny</td>\n",
       "      <td>16</td>\n",
       "      <td>7.924182</td>\n",
       "    </tr>\n",
       "    <tr>\n",
       "      <th>2</th>\n",
       "      <td>ConvNeXt-Tiny</td>\n",
       "      <td>32</td>\n",
       "      <td>11.814195</td>\n",
       "    </tr>\n",
       "    <tr>\n",
       "      <th>3</th>\n",
       "      <td>ConvNeXt-Tiny</td>\n",
       "      <td>64</td>\n",
       "      <td>19.027518</td>\n",
       "    </tr>\n",
       "    <tr>\n",
       "      <th>4</th>\n",
       "      <td>ConvNeXt-Tiny</td>\n",
       "      <td>96</td>\n",
       "      <td>26.365583</td>\n",
       "    </tr>\n",
       "    <tr>\n",
       "      <th>5</th>\n",
       "      <td>ConvNeXt-Tiny</td>\n",
       "      <td>128</td>\n",
       "      <td>34.863514</td>\n",
       "    </tr>\n",
       "    <tr>\n",
       "      <th>6</th>\n",
       "      <td>ConvNeXt-Tiny</td>\n",
       "      <td>192</td>\n",
       "      <td>49.874738</td>\n",
       "    </tr>\n",
       "    <tr>\n",
       "      <th>7</th>\n",
       "      <td>ConvNeXt-Tiny</td>\n",
       "      <td>256</td>\n",
       "      <td>67.723489</td>\n",
       "    </tr>\n",
       "    <tr>\n",
       "      <th>8</th>\n",
       "      <td>DenseNet-121</td>\n",
       "      <td>1</td>\n",
       "      <td>14.162842</td>\n",
       "    </tr>\n",
       "    <tr>\n",
       "      <th>9</th>\n",
       "      <td>DenseNet-121</td>\n",
       "      <td>16</td>\n",
       "      <td>13.801103</td>\n",
       "    </tr>\n",
       "    <tr>\n",
       "      <th>10</th>\n",
       "      <td>DenseNet-121</td>\n",
       "      <td>32</td>\n",
       "      <td>15.870976</td>\n",
       "    </tr>\n",
       "    <tr>\n",
       "      <th>11</th>\n",
       "      <td>DenseNet-121</td>\n",
       "      <td>64</td>\n",
       "      <td>27.520123</td>\n",
       "    </tr>\n",
       "    <tr>\n",
       "      <th>12</th>\n",
       "      <td>DenseNet-121</td>\n",
       "      <td>96</td>\n",
       "      <td>39.006413</td>\n",
       "    </tr>\n",
       "    <tr>\n",
       "      <th>13</th>\n",
       "      <td>DenseNet-121</td>\n",
       "      <td>128</td>\n",
       "      <td>51.045847</td>\n",
       "    </tr>\n",
       "    <tr>\n",
       "      <th>14</th>\n",
       "      <td>DenseNet-121</td>\n",
       "      <td>192</td>\n",
       "      <td>73.448489</td>\n",
       "    </tr>\n",
       "  </tbody>\n",
       "</table>\n",
       "</div>"
      ],
      "text/plain": [
       "       model_name  batch_size  elapsed_time\n",
       "0   ConvNeXt-Tiny           1      5.606831\n",
       "1   ConvNeXt-Tiny          16      7.924182\n",
       "2   ConvNeXt-Tiny          32     11.814195\n",
       "3   ConvNeXt-Tiny          64     19.027518\n",
       "4   ConvNeXt-Tiny          96     26.365583\n",
       "5   ConvNeXt-Tiny         128     34.863514\n",
       "6   ConvNeXt-Tiny         192     49.874738\n",
       "7   ConvNeXt-Tiny         256     67.723489\n",
       "8    DenseNet-121           1     14.162842\n",
       "9    DenseNet-121          16     13.801103\n",
       "10   DenseNet-121          32     15.870976\n",
       "11   DenseNet-121          64     27.520123\n",
       "12   DenseNet-121          96     39.006413\n",
       "13   DenseNet-121         128     51.045847\n",
       "14   DenseNet-121         192     73.448489"
      ]
     },
     "execution_count": 5,
     "metadata": {},
     "output_type": "execute_result"
    }
   ],
   "source": [
    "results = pd.DataFrame(telemetry).drop([\"framework\", \"rep\"], axis=1)\n",
    "display(results.head())\n",
    "\n",
    "results = results.groupby([\"model_name\", \"batch_size\"])\n",
    "results.mean().head(15).reset_index()"
   ]
  }
 ],
 "metadata": {
  "kernelspec": {
   "display_name": "Python 3",
   "language": "python",
   "name": "python3"
  },
  "language_info": {
   "codemirror_mode": {
    "name": "ipython",
    "version": 3
   },
   "file_extension": ".py",
   "mimetype": "text/x-python",
   "name": "python",
   "nbconvert_exporter": "python",
   "pygments_lexer": "ipython3",
   "version": "3.11.7"
  }
 },
 "nbformat": 4,
 "nbformat_minor": 2
}
